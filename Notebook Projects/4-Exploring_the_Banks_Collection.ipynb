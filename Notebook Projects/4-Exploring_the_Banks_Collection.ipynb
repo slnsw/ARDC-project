{
 "cells": [
  {
   "cell_type": "markdown",
   "metadata": {},
   "source": [
    "<center> <h1>Exploring the Sir Joseph Banks Collection</h1> \n",
    "\n",
    "In this noteboook, we will use the AdLib and Transcription APIs to explore the file contents and transcripts of the Sir Joseph Banks collection. \n"
   ]
  },
  {
   "cell_type": "markdown",
   "metadata": {},
   "source": [
    "<h1>Table of Contents<span class=\"tocSkip\"></span></h1>\n",
    "<div class=\"toc\"><ul class=\"toc-item\"><li><span><a href=\"#Exploring-the-Banks-Collection-Through-AdLib-API\" data-toc-modified-id=\"Exploring-the-Banks-Collection-Through-AdLib-API-1\"><span class=\"toc-item-num\">1&nbsp;&nbsp;</span>Exploring the Banks Collection Through AdLib API</a></span><ul class=\"toc-item\"><li><span><a href=\"#Exploring-a-Series-in-the-Banks-Collection\" data-toc-modified-id=\"Exploring-a-Series-in-the-Banks-Collection-1.1\"><span class=\"toc-item-num\">1.1&nbsp;&nbsp;</span>Exploring a Series in the Banks Collection</a></span></li></ul></li><li><span><a href=\"#Exploring-the-Banks-Collection-Through-the-Transcription-Tool-API\" data-toc-modified-id=\"Exploring-the-Banks-Collection-Through-the-Transcription-Tool-API-2\"><span class=\"toc-item-num\">2&nbsp;&nbsp;</span>Exploring the Banks Collection Through the Transcription Tool API</a></span><ul class=\"toc-item\"><li><span><a href=\"#Exploring-the-Collections-in-the-Transcription-Tool\" data-toc-modified-id=\"Exploring-the-Collections-in-the-Transcription-Tool-2.1\"><span class=\"toc-item-num\">2.1&nbsp;&nbsp;</span>Exploring the Collections in the Transcription Tool</a></span></li><li><span><a href=\"#Exploring-the-Series-Within-the-Banks-Collection\" data-toc-modified-id=\"Exploring-the-Series-Within-the-Banks-Collection-2.2\"><span class=\"toc-item-num\">2.2&nbsp;&nbsp;</span>Exploring the Series Within the Banks Collection</a></span></li><li><span><a href=\"#Exploring-a-Specific-Series\" data-toc-modified-id=\"Exploring-a-Specific-Series-2.3\"><span class=\"toc-item-num\">2.3&nbsp;&nbsp;</span>Exploring a Specific Series</a></span></li><li><span><a href=\"#Retrieving-the-Transcript-of-a-Specific-Document\" data-toc-modified-id=\"Retrieving-the-Transcript-of-a-Specific-Document-2.4\"><span class=\"toc-item-num\">2.4&nbsp;&nbsp;</span>Retrieving the Transcript of a Specific Document</a></span></li></ul></li></ul></div>"
   ]
  },
  {
   "cell_type": "markdown",
   "metadata": {},
   "source": [
    "## Exploring the Banks Collection Through AdLib API\n",
    "\n",
    "Through the AdLib API, we can traverse the Banks collection database, and obtain the IE IDs for each document.\n",
    "\n",
    "We can then use the Rosetta API to download the file contents of the documents through their IE IDs."
   ]
  },
  {
   "cell_type": "code",
   "execution_count": 1,
   "metadata": {},
   "outputs": [],
   "source": [
    "# Importing relevant libraries\n",
    "\n",
    "import numpy as np\n",
    "import pandas as pd\n",
    "import requests\n",
    "import IPython.display as Disp\n",
    "import xml.etree.ElementTree as ET\n",
    "from io import StringIO\n",
    "from lxml import etree, objectify\n",
    "from xmljson import yahoo\n",
    "import collections\n",
    "import json"
   ]
  },
  {
   "cell_type": "markdown",
   "metadata": {},
   "source": [
    "Knowing the 'priref' identification of the Banks collection, we can make RESTful queries to the AdLib API endpoint.\n",
    "\n",
    "Here, 'resp' represents the database entry for the collection itself, and 'resp1' represents the database entries for the series within the collection"
   ]
  },
  {
   "cell_type": "code",
   "execution_count": 2,
   "metadata": {},
   "outputs": [],
   "source": [
    "banks_priref = 110311728\n",
    "archive_url = \"http://oai-archival.sl.nsw.gov.au/oaix_primo/wwwopac.ashx\"\n",
    "\n",
    "search_collection = 'priref='+str(banks_priref)\n",
    "resp = requests.get(archive_url,params={'database':'archive', 'search':search_collection, 'limit':999})\n",
    "\n",
    "search_series = 'part_of_reference.lref='+str(banks_priref)\n",
    "resp1 = requests.get(archive_url,params={'database':'archive', 'search':search_series, 'limit':999})"
   ]
  },
  {
   "cell_type": "code",
   "execution_count": 3,
   "metadata": {},
   "outputs": [],
   "source": [
    "# Function for converting XML responses to JSON\n",
    "\n",
    "def xml_json(data, remove_ns=True, preserve_root=False, encoding='utf-8') -> dict:\n",
    "    if type(data) == str:\n",
    "        if remove_ns:\n",
    "            xml_data = ET.iterparse(StringIO(data))\n",
    "            for _, el in xml_data:\n",
    "                if '}' in el.tag:\n",
    "                    el.tag = el.tag.split('}', 1)[1]  # strip all namespaces\n",
    "            data = ET.tostring(xml_data.root, encoding=encoding).decode(encoding)\n",
    "        encoded_data = data.encode(encoding)\n",
    "        # noinspection PyArgumentList\n",
    "        parser = etree.XMLParser(encoding=encoding, recover=False, huge_tree=True)\n",
    "        xml_data = objectify.fromstring(encoded_data, parser=parser)\n",
    "    else:\n",
    "        xml_data = data\n",
    "    json_data = yahoo.data(xml_data)\n",
    "    if type(json_data) == collections.OrderedDict and not preserve_root:\n",
    "        json_data = json_data.get(list(json_data.keys())[0])\n",
    "    return json_data"
   ]
  },
  {
   "cell_type": "markdown",
   "metadata": {},
   "source": [
    "We will now convert resp from XML to JSON"
   ]
  },
  {
   "cell_type": "code",
   "execution_count": 4,
   "metadata": {},
   "outputs": [],
   "source": [
    "banks = xml_json(resp.text)\n",
    "banks_json = json.dumps([banks])\n",
    "banks_dict = json.loads(banks_json)"
   ]
  },
  {
   "cell_type": "code",
   "execution_count": 6,
   "metadata": {},
   "outputs": [],
   "source": [
    "banks_collection_info = {\n",
    "    'priref' : banks_dict[0]['recordList']['record']['priref'],\n",
    "    'Title' : banks_dict[0]['recordList']['record']['Title']['title']['value']['content'],\n",
    "    'contents' : banks_dict[0]['recordList']['record']['content.description']\n",
    "}"
   ]
  },
  {
   "cell_type": "markdown",
   "metadata": {},
   "source": [
    "Here, we can see the Titles of all 95 series within the Banks collection"
   ]
  },
  {
   "cell_type": "code",
   "execution_count": 8,
   "metadata": {},
   "outputs": [
    {
     "name": "stdout",
     "output_type": "stream",
     "text": [
      "Joseph Banks was born in London on 13 February 1743. He was educated at Harrow and Eton Schools and Oxford University. In 1767 he was elected a Fellow of the Royal Society. In 1778 he was elected President of the Royal Society, a position which he held until his death in 1820. \n",
      "He successfully lobbied the Royal Society to be included on James Cook's first Pacific voyage on board the Endeavour (1768-1771). Following his return from the Pacific, Banks was actively involved in almost every aspect of Pacific exploration and early Australian colonial life. He actively supported the proposal of Botany Bay in New South Wales as a site for British settlement, founded on 26 January 1788. He corresponded with the early governors of New South Wales and recommended William Bligh to succeed Philip Gidley King as fourth Governor. \n",
      "Banks sent botanists to all parts of the known world, often at his own expense. He organised the breadfruit voyages under the command of William Bligh (1787-1789 and 1791-1793), as well as Matthew Flinders voyage on the Investigator (1801-1803).\n",
      "Banks was created a baronet in 1781 and invested Knight Commander of the Order of the Bath in 1795. In March 1779 he married Dorothea Hugessen (1758-1828). They had no children. Sir Joseph Banks died on 19 June 1820.\n",
      "\n",
      "This collection contains those papers of Sir Joseph Banks which are held in the Mitchell and Dixson collections at the State Library of New South Wales. These amount to approximately 10,000 manuscript pages and include correspondence, principally letters received, but also reports, invoices and accounts, journals, plus a small quantity of maps, charts and watercolours.\n",
      "\n",
      "Many of these documents have been published in various works before. The collection is described here and extensively indexed.\n",
      "\n",
      "SECTION 1 - JOURNALS\n",
      "Series 01: Journal of an excursion to Chatham, Rochester, Sheerness, Sheppey, 21 January - 4 March 1767 \n",
      "Series 02: Journal of a tour in Holland, 12 February - 22 March 1773 \n",
      "\n",
      "SECTION 2 - THE FIRST PACIFIC VOYAGE OF JAMES COOK\n",
      "Series 03: The Endeavour journal of Joseph Banks, August 1768 - July 1771 \n",
      "Series 04: Anonymous note concerning the voyage of HMS Endeavour, ca. 1771 \n",
      "Series 05: Papers concerning the publication by Comte Louis de Lauraguais of Banks’ abstract account of the voyage of HMS Endeavour, 1772 \n",
      "\n",
      "SECTION 3 - THE SECOND PACIFIC VOYAGE OF JAMES COOK\n",
      "Series 06: ‘Voluntiers, Instructions, Provision for 2d. Voyage’ , being papers concerning Banks’ preparations for the second Pacific voyage of HM Ships Resolution and Adventure, James Cook, 1768, 1771-1773\n",
      "Series 07: Letters received by Banks from James Cook concerning the second Pacific voyage in HM Ships Resolution and Adventure, 1772 \n",
      "Series 08: Letters received by Banks from Charles Clerke concerning the second Pacific voyage in HM Ships Resolution and Adventure, James Cook, 1772 \n",
      "\n",
      "SECTION 4 - THE THIRD PACIFIC VOYAGE OF JAMES COOK\n",
      "Series 09: Letters received by Banks, with related papers, from John Montagu, Lord Sandwhich, mainly concerning publication of the account of the third Pacific voyage in in HM Ships Resolution and Discovery, James Cook, 1774, 1780-1785, 1795 Includes a letter received by Banks from Lord Howe, 1784 \n",
      "Series 10: Letters received by Banks from James Cook concerning the third Pacific voyage in HM Ships Resolution and Discovery, 1776 \n",
      "Series 11: Letters received by Banks from Charles Clerke, concerning the third Pacific voyage in HM Ships Resolution and Discovery, James Cook, 1776, 1779 \n",
      "Series 12: Copies, extracts and summaries of letters written by James Cook, Charles Clerke and others, concerning the third Pacific voyage in HM Ships Resolution and Discovery, 1779-1780 \n",
      "\n",
      "SECTION 5 - GARDENERS AND COLLECTORS\n",
      "Series 13: Letters received by Banks from Francis Masson, 1776-1800, 1805 \n",
      "Series 14: Letters received by Banks from William Wright, 1778, ca 1782-1793 \n",
      "Series 15: Letters received by Banks from David Burton, 1790-1794 \n",
      "Series 16: Letters and plant lists, received by Banks from Christopher Smith, 1795-1801 \n",
      "Series 17: Documents concerning the appointment of Peter Good, and the equipping of the Royal Admiral, 1794 \n",
      "Series 18: Correspondence, being mainly letters received by Banks from George Caley, 1795-1809, 1814 \n",
      "Series 19: Correspondence concerning the outfitting and equipping of H.M.S. Porpoise for a voyage to New South Wales, 1797-1801 \n",
      "Series 20: General correspondence being mainly letters received by Banks from various persons, 1791-1820 \n",
      "Series 21: Botanical reports received by Banks, 1799, 1817-1818, undated. Includes ‘Rules for Collecting and preserving Specimens of plants’ , undated \n",
      "Series 22: Plants and specimen lists kept or received by Banks, 1780’s-1890’s \n",
      "\n",
      "SECTION 6 - AUSTRALIA AND THE SOUTH SEAS\n",
      "Series 23: Correspondence with various persons concerning Australia and the South Seas, being mainly letters received by Banks, 1786-1809 \n",
      "Series 24: Correspondence and newscuttings concerning the prisoner Mary Rose, 1788-1789 \n",
      "Series 25: Copies of correspondence concerning the withdrawal of Mungo Park from a voyage of exploration to Australia on board HMS Porpoise, 1798 \n",
      "Series 26: ‘Correspondence relative to Boring Machinery to try for Coal in NSWales’ , 1799 \n",
      "Series 27: Correspondence, being mainly letters received by Banks from William Patterson, 1782, 1790-1808 \n",
      "Series 28: ‘Applications to Sir J. Banks for free passages to N.S.W.’ being letters received by Banks from various persons, 1800-1801 \n",
      "Series 29: ‘Letters [received by Banks] from persons wishing to proceed to Botany Bay’ , 1801-1804 \n",
      "Series 30: Correspondence, being mainly letters received by Banks from William Kent, and others, 1801, 1806 \n",
      "Series 31: ‘Proposals for Conveying Convicts to New South Wales, also for their Maintenance and Clothing &c by W. [William] Richards Jnr’ , 1791-1793 \n",
      "Series 32: ‘Whale and Seal Fisheries & Sir Jos Banks’ Remarks... & Statistics...’, 1793-1798, 1802-1806 \n",
      "Series 33: ‘A project for supplying N.S.W. with a circulating medium’ , 1805 \n",
      "Series 34: ‘Volunteers who did not proceed [to New South Wales]’ , 1810 \n",
      "Series 35: Miscellaneous reports and memoranda concerning the settlements in Australia, [1770], ca 1786-1808 \n",
      "Series 36: Newscuttings concerning the settlements in New South Wales, 1788-1791 \n",
      "Series 36A: Illustrations and charts concerning the settlments in Australia, ca 1790s \n",
      "\n",
      "SECTION 7 - GOVERNORS OF NEW SOUTH WALES\n",
      "Series 37: Letters, with related papers and journal extract, received by Banks from Arthur Phillip, 1787-1792, 1794-1796 \n",
      "Series 38: Correspondence, being mainly letters received by Banks from John Hunter, with related papers, 1795-1802, 1807 \n",
      "Series 39: Correspondence, being mainly letters received by Banks from Philip Gidley King, with related papers, 1788, 1791-1807 \n",
      "Series 40: Correspondence, being mainly letters received by Banks from William Bligh, 1805-1811 \n",
      "Series 41: Copies of documents ‘Receivd [by Banks] April 9 1808 Chiefly Relating to Leut Short’ , 1806-1808. Written in the hand of a clerk. Includes memorandum written by Philip Gidley King, ca 1807 \n",
      "Series 42: Documents written or transmitted to Banks by Elizabeth Bligh, 1807-1809 \n",
      "Series 43: Letters received by Banks from various persons, concerning the governorship of William Bligh, 1808-1809 \n",
      "Series 44: Copy of a letter written by Banks to Lachlan Macquarie, 1809 \n",
      "\n",
      "SECTION 8 - THE FIRST BREADFRUIT VOYAGE OF WILLIAM BLIGH\n",
      "Series 45: ‘Plan for the Voyage with Letters from various persons who interferd in the management of it’ , being papers concerning preparations for the voyage of the HMS Bounty, William Bligh, ca. 1787 \n",
      "Series 46: ‘Correspondence Bounty’ , being letters received by Banks from William Bligh concerning the breadfruit voyage of HMS Bounty, 1787-1790. Includes a copy of a letter written by Joseph Coleman, 1788; and newscuttings, 1790, 1792 \n",
      "Series 47: ‘David Nelson Gardiner. Third Voyage in H.M. Brig Bounty’ , being papers concerning David Nelson and the breadfruit voyage of HMS Bounty, William Bligh, 1787, 1790.\n",
      "Series 48: Miscellaneous correspondence concerning the breadfruit voyage of HMS Bounty, William Bligh, 1792, 1795-1796 \n",
      "\n",
      "SECTION 9 - THE SECOND BREADFRUIT VOYAGE OF WILLIAM BLIGH\n",
      "Series 49: ‘outfit orders’ , being papers concerning the breadfruit voyage of HM Ships Providence and Assistant, William Bligh, 1790-1791 \n",
      "Series 50: ‘Correspondence’ being mainly letters received by Banks from William Bligh, with other papers, concerning the breadfruit voyage of HM Ships Providence and Assistant 1791-1795. Includes newscuttings, 1791, 1793. \n",
      "Series 51: Letters received by Banks from Nathaniel Portlock concerning the breadfruit voyage of HM Ships Providence and Assistant, William Bligh, 1791, 1793 Includes a letter recevied by Banks from Elizabeth Bligh, 1791. \n",
      "Series 52: ‘Gardiners on the Providence’ , being letters received by Banks, and related papers, from James Wiles and Christopher Smith concerning the breadfruit voyage of HM Ships Providence and Assistant, William Bligh, 1791-1793 \n",
      "Series 53: ‘Accounts’ concerning James Wiles and Christopher Smith and the breadfruit voyage of HM Ships Providence and Assistant, William Bligh, 1791-1794, 1797 \n",
      "Series 54: Draft letter written by Banks to William Pitt, Lord Chatham, concerning the breadfruit voyage of HM Ships Providence and Assistant, 1791, 1793 \n",
      "Series 55: Letter received by Banks from Robert Brooke, concerning the breadfruit voyage of HM Ships Providence and Assistant, William Bligh, 1792 \n",
      "Series 56: Letters and plant lists received by Banks from Alexander Andersonk concerning the breadfruit voyage of HM Ships Providence and Assistant, William Bligh, 1792-1793 \n",
      "Series 57: Letters and plant lists received by Banks from Thomas Dancer, concerning the breadfruit voyage of HM Ships Providence and Assistant, William Bligh, 1793 \n",
      "\n",
      "SECTION 10 - NAVAL COMMANDS OF WILLIAM BLIGH\n",
      "Series 58: Correspondence, being mainly letters received by Banks from William Bligh while commander of HM Ships Calcutta, Director, Glatton, Irresistible and Warrior, 1795-1798, 1800-1801, 1803, 1805. Includes a letter received by Banks from Elizabeth Bligh, 1805 \n",
      "Series 59: Letters received by Banks from Lord Camden and James Chapman, while Bligh was commander of HMS Warrior, 1805. Includes a letter written by William Bligh to William Marsden, Secretary to the Admiralty, 1805 \n",
      "\n",
      "SECTION 11 - THE VOYAGE OF GEORGE VANCOUVER TO THE WEST COAST OF AMERICA\n",
      "Series 60: Papers concerning the equipping and voyage of HM Ships Chatham and Discovery, George Vancouver, 1791-1792 \n",
      "Series 61: Letters and related papers, received by Banks from Archibald Menzies and others, 1791-1795, 1798 \n",
      "\n",
      "SECTION 12 - LORD MACARTNEY’S EMBASSY TO CHINA\n",
      "Series 62: Papers concerning publication of the account of Lord Macartney’s Embassy to China, 1797 (possibly later) \n",
      "\n",
      "SECTION 13 - THE VOYAGE OF MATTHEW FLINDERS\n",
      "Series 63: Correspondence, being mainly letters received by Banks from various persons, concerning the fitting out of HMS Investigator, Matthew Flinders, 1800-1801 \n",
      "Series 64: Correspondence, being mainly letters received by Banks from the Honourable East India Company concerning the voyage of HMS Investigator, Matthew Flinder, 1801 \n",
      "Series 65: Correspondence being mainly letters received by Banks from Matthew Flinders, 1807-1811 \n",
      "Series 66: ‘Letters about Capn Flinders while a prisoner on Isle of France [Mauritius]’ , 1804-1808. Includes letter received by Banks from John Allen, 1803 \n",
      "Series 67: Correspondence, being mainly letters received by Banks concerning the results of the voyage of HMS Investigator, Matthew Flinders, 1804-1806 \n",
      "Series 68: Reports concerning the wreck of HM Ships Porpoise and Cato, 1805 \n",
      "Series 69: ‘Drawings for Flinder work’ , being notes concerning the drawings of William Westall from the voyage of HMS Investigator, Matthew Flinders, 1805-1806 \n",
      "Series 70: ‘Engravings &c for F’s work’ , being correspondence and invoices concerning the publication of the voyage of HMS Investigator, Mattew Flinders, 1811-1814 \n",
      "\n",
      "SECTION 14 - THE DISCOVERY OF PITCAIRN ISLAND\n",
      "Series 71: Papers concerning the discovery of Pitcairn Island and the mutineers of HMS Bounty, 1808-1809, 1813-1815 \n",
      "\n",
      "SECTION 15 - GENERAL CORRESPONDENCE AND MEMORANDA\n",
      "Series 72: Letters received by Banks from various persons, 1773-1819, [1884] \n",
      "Series 73: Copies of letters received by various persons from Banks, 1782-1818, undated \n",
      "Series 74: Letter-press copies of letters received by various persons from Banks, 1782-1783, undated \n",
      "Series 75: Certificates and diplomas presented to Banks, 1785-1813 \n",
      "Series 76: ‘Begging letters’ received by Banks from various persons, 1786-1808, [1884], undated \n",
      "Series 77: Correspondence with British Museum \n",
      "Series 78: Correspondence concerning a monument to Dr Samuel Johnson, 1791 \n",
      "Series 79: Extracts and abstracts of letters, 1771-1810, 1818, undated \n",
      "Series 80: Miscellaneous memoranda and other documents, 1778-1807 \n",
      "Series 81: Miscellaneous invoices and receipts, 1788-1805 \n",
      "Series 82: Indexes to correspondents compiled by Banks, 1768, undated \n",
      "\n",
      "SECTION 16 - MISCELLANEOUS REPORTS AND ARTICLES\n",
      "Series 83: ‘Simkin’ s Poetry’ being newscuttings, 1785-1792 \n",
      "Series 84: Papers concerning coinage and the Royal Mint, 1787-1813 \n",
      "Series 85: ‘Translation of a paper communicated by Mr Stuart to Lord Hobart relative to the Map now existing in the Church of St Michael di Murano at Venice \n",
      "Series 86: Satirical verse, ca 1807, undated \n",
      "Series 87: ‘A Work upon Ancient Dresses’, undated \n",
      "Series 88: Papers written by Banks, and some others, about various topics, ca 1805-1816, undated \n",
      "Series 89: Miscellaneous cuttings and printed material, 1777, 1793-1795, undated \n",
      "\n",
      "SECTION 17 - LINCOLNSHIRE\n",
      "Series 90: Correspondence and memoranda concerning Banks’ Lincolnshire estates, including Revesby Abbey, 1790-1808, undated \n",
      "Series 91: Correspondence and memoranda concerning the office of High Sheriff of Lincolnshire, 1794-1795 \n",
      "Series 92: ‘Papers relating to the Dean and Chapter of Lincoln Cathederal’ , 1807-1808 \n",
      "\n",
      "SECTION 18 - SARAH SOPHIA BANKS\n",
      "Series 93: Letters received by Sarah Sophia Banks from Joseph Banks, 1766, 1773-1774, 1779 \n",
      "Series 94: ‘Copy of Some Account of Lisbon, & the adjacent Countrey, & Customs of the Inhabitants’ , [1766] \n",
      "\n",
      "SECTION 19 - DOROTHEA, LADY BANKS\n",
      "Series 95: Letters received by Dorothea, Lady Banks from various persons, 1817-1822, undated\n"
     ]
    }
   ],
   "source": [
    "print(banks_collection_info['contents'])"
   ]
  },
  {
   "cell_type": "markdown",
   "metadata": {},
   "source": [
    "Now, we will convert resp1 from XML to JSON, and obtain the prirefs of all the series within the Banks collection."
   ]
  },
  {
   "cell_type": "code",
   "execution_count": 9,
   "metadata": {},
   "outputs": [],
   "source": [
    "j = xml_json(resp1.text)\n",
    "banks_series_json = json.dumps([j])\n",
    "banks_series_dict = json.loads(banks_series_json)"
   ]
  },
  {
   "cell_type": "code",
   "execution_count": 10,
   "metadata": {},
   "outputs": [],
   "source": [
    "banks_series = []\n",
    "for f in banks_series_dict[0]['recordList']['record']:\n",
    "    ser = f['Title']['title']['value']['content'].split(':')[0]\n",
    "    s = [s1 for s1 in ser if s1.isdigit()]\n",
    "    serie = ''.join(s)\n",
    "    d = {\n",
    "        'Series':int(serie),\n",
    "        'priref':int(f['priref'])\n",
    "    }\n",
    "    banks_series.append(d)"
   ]
  },
  {
   "cell_type": "code",
   "execution_count": 11,
   "metadata": {},
   "outputs": [
    {
     "data": {
      "text/plain": [
       "[{'Series': 1, 'priref': 110355936},\n",
       " {'Series': 2, 'priref': 110374173},\n",
       " {'Series': 3, 'priref': 110327948},\n",
       " {'Series': 4, 'priref': 110374174},\n",
       " {'Series': 5, 'priref': 110374176},\n",
       " {'Series': 6, 'priref': 110578133},\n",
       " {'Series': 7, 'priref': 110374185},\n",
       " {'Series': 8, 'priref': 110374192},\n",
       " {'Series': 9, 'priref': 110374203},\n",
       " {'Series': 10, 'priref': 110374204},\n",
       " {'Series': 11, 'priref': 110374225},\n",
       " {'Series': 12, 'priref': 110374230},\n",
       " {'Series': 13, 'priref': 110374265},\n",
       " {'Series': 14, 'priref': 110374337},\n",
       " {'Series': 15, 'priref': 110374398},\n",
       " {'Series': 16, 'priref': 110374399},\n",
       " {'Series': 17, 'priref': 110374400},\n",
       " {'Series': 18, 'priref': 110374402},\n",
       " {'Series': 19, 'priref': 110374404},\n",
       " {'Series': 20, 'priref': 110374437},\n",
       " {'Series': 21, 'priref': 110374438},\n",
       " {'Series': 22, 'priref': 110374439},\n",
       " {'Series': 23, 'priref': 110374440},\n",
       " {'Series': 24, 'priref': 110374441},\n",
       " {'Series': 25, 'priref': 110374443},\n",
       " {'Series': 26, 'priref': 110374444},\n",
       " {'Series': 27, 'priref': 110339576},\n",
       " {'Series': 28, 'priref': 110374448},\n",
       " {'Series': 29, 'priref': 110374449},\n",
       " {'Series': 30, 'priref': 110374450},\n",
       " {'Series': 31, 'priref': 110374451},\n",
       " {'Series': 32, 'priref': 110374453},\n",
       " {'Series': 33, 'priref': 110374454},\n",
       " {'Series': 34, 'priref': 110374455},\n",
       " {'Series': 35, 'priref': 110374456},\n",
       " {'Series': 36, 'priref': 110335567},\n",
       " {'Series': 36, 'priref': 110374457},\n",
       " {'Series': 37, 'priref': 110342965},\n",
       " {'Series': 38, 'priref': 110341239},\n",
       " {'Series': 39, 'priref': 110338605},\n",
       " {'Series': 40, 'priref': 110338726},\n",
       " {'Series': 41, 'priref': 110333604},\n",
       " {'Series': 42, 'priref': 110338728},\n",
       " {'Series': 43, 'priref': 110338722},\n",
       " {'Series': 44, 'priref': 110374486},\n",
       " {'Series': 45, 'priref': 110374487},\n",
       " {'Series': 46, 'priref': 110338902},\n",
       " {'Series': 47, 'priref': 110577497},\n",
       " {'Series': 48, 'priref': 110577498},\n",
       " {'Series': 49, 'priref': 110577499},\n",
       " {'Series': 50, 'priref': 110577500},\n",
       " {'Series': 51, 'priref': 110577501},\n",
       " {'Series': 52, 'priref': 110577502},\n",
       " {'Series': 53, 'priref': 110577503},\n",
       " {'Series': 54, 'priref': 110577504},\n",
       " {'Series': 55, 'priref': 110577505},\n",
       " {'Series': 56, 'priref': 110577506},\n",
       " {'Series': 57, 'priref': 110577507},\n",
       " {'Series': 58, 'priref': 110577508},\n",
       " {'Series': 59, 'priref': 110577509},\n",
       " {'Series': 60, 'priref': 110577510},\n",
       " {'Series': 61, 'priref': 110577511},\n",
       " {'Series': 62, 'priref': 110577512},\n",
       " {'Series': 63, 'priref': 110577513},\n",
       " {'Series': 64, 'priref': 110577514},\n",
       " {'Series': 65, 'priref': 110577515},\n",
       " {'Series': 66, 'priref': 110577516},\n",
       " {'Series': 67, 'priref': 110577517},\n",
       " {'Series': 68, 'priref': 110577518},\n",
       " {'Series': 69, 'priref': 110577519},\n",
       " {'Series': 70, 'priref': 110577520},\n",
       " {'Series': 71, 'priref': 110577521},\n",
       " {'Series': 72, 'priref': 110577522},\n",
       " {'Series': 73, 'priref': 110577523},\n",
       " {'Series': 74, 'priref': 110577524},\n",
       " {'Series': 75, 'priref': 110577525},\n",
       " {'Series': 76, 'priref': 110580607},\n",
       " {'Series': 77, 'priref': 110580608},\n",
       " {'Series': 78, 'priref': 110580609},\n",
       " {'Series': 79, 'priref': 110580610},\n",
       " {'Series': 80, 'priref': 110580611},\n",
       " {'Series': 81, 'priref': 110577526},\n",
       " {'Series': 82, 'priref': 110577527},\n",
       " {'Series': 83, 'priref': 110577528},\n",
       " {'Series': 84, 'priref': 110577529},\n",
       " {'Series': 85, 'priref': 110577530},\n",
       " {'Series': 86, 'priref': 110577531},\n",
       " {'Series': 87, 'priref': 110577532},\n",
       " {'Series': 88, 'priref': 110577533},\n",
       " {'Series': 89, 'priref': 110577534},\n",
       " {'Series': 90, 'priref': 110577535},\n",
       " {'Series': 91, 'priref': 110577536},\n",
       " {'Series': 92, 'priref': 110577537},\n",
       " {'Series': 93, 'priref': 110577538},\n",
       " {'Series': 94, 'priref': 110577539},\n",
       " {'Series': 95, 'priref': 110577540}]"
      ]
     },
     "execution_count": 11,
     "metadata": {},
     "output_type": "execute_result"
    }
   ],
   "source": [
    "banks_series =  sorted(banks_series, key = lambda i: i['Series'])\n",
    "banks_series"
   ]
  },
  {
   "cell_type": "markdown",
   "metadata": {},
   "source": [
    "### Exploring a Series in the Banks Collection\n",
    "\n",
    "In this example, we will take note of the priref of Series 03, and send a query to the AdLib API."
   ]
  },
  {
   "cell_type": "code",
   "execution_count": 12,
   "metadata": {},
   "outputs": [],
   "source": [
    "series_priref = 110327948\n",
    "archive_url = \"http://oai-archival.sl.nsw.gov.au/oaix_primo/wwwopac.ashx\"\n",
    "\n",
    "search_collection = 'priref='+str(series_priref)\n",
    "resp = requests.get(archive_url,params={'database':'archive', 'search':search_collection, 'limit':999})\n",
    "\n",
    "search_series = 'part_of_reference.lref='+str(series_priref)\n",
    "resp1 = requests.get(archive_url,params={'database':'archive', 'search':search_series, 'limit':999})"
   ]
  },
  {
   "cell_type": "code",
   "execution_count": 13,
   "metadata": {},
   "outputs": [],
   "source": [
    "j = xml_json(resp.text)\n",
    "series_json = json.dumps([j])\n",
    "series_dict = json.loads(series_json)"
   ]
  },
  {
   "cell_type": "markdown",
   "metadata": {},
   "source": [
    "The IE IDs of the documents, along with the FL IDs of the pages of each document, can be seen in series_child_dict, as defined below:"
   ]
  },
  {
   "cell_type": "code",
   "execution_count": 24,
   "metadata": {},
   "outputs": [],
   "source": [
    "j = xml_json(resp1.text)\n",
    "series_child_json = json.dumps([j])\n",
    "series_child_dict = json.loads(series_child_json)"
   ]
  },
  {
   "cell_type": "markdown",
   "metadata": {},
   "source": [
    "An example of a page FL ID, along with the document IE ID is this:"
   ]
  },
  {
   "cell_type": "code",
   "execution_count": 25,
   "metadata": {
    "scrolled": false
   },
   "outputs": [
    {
     "data": {
      "text/plain": [
       "{'reproduction.reference': 'FL3327997',\n",
       " 'reproduction.Rosetta.intellectual_entity': 'IE3327995'}"
      ]
     },
     "execution_count": 25,
     "metadata": {},
     "output_type": "execute_result"
    }
   ],
   "source": [
    "series_child_dict[0]['recordList']['record'][0]['Reproduction'][0]"
   ]
  },
  {
   "cell_type": "markdown",
   "metadata": {},
   "source": [
    "## Exploring the Banks Collection Through the Transcription Tool API\n",
    "\n",
    "With the transcription tool API, we can obtain the transcripts of the papers in the Banks collection"
   ]
  },
  {
   "cell_type": "markdown",
   "metadata": {},
   "source": [
    "### Exploring the Collections in the Transcription Tool\n",
    "\n",
    "We will find the Banks collection among the other collections available for transcription.\n"
   ]
  },
  {
   "cell_type": "markdown",
   "metadata": {},
   "source": [
    "\n",
    "We will input appropriate login credentials to access the transcript tool API, and request a list of 'collection' entries in the database"
   ]
  },
  {
   "cell_type": "code",
   "execution_count": 27,
   "metadata": {},
   "outputs": [
    {
     "name": "stdout",
     "output_type": "stream",
     "text": [
      "User: ········\n",
      "Password: ········\n"
     ]
    },
    {
     "data": {
      "text/plain": [
       "<Response [200]>"
      ]
     },
     "execution_count": 27,
     "metadata": {},
     "output_type": "execute_result"
    }
   ],
   "source": [
    "from requests.auth import HTTPBasicAuth\n",
    "import getpass\n",
    "        \n",
    "user = getpass.getpass('User: ', stream=None) \n",
    "password = getpass.getpass(prompt='Password: ', stream=None)\n",
    "\n",
    "coll_json = requests.get(\n",
    "    'https://transcripts.sl.nsw.gov.au/node.json',\n",
    "    auth=HTTPBasicAuth(user, password),params={'type':'project','status':1}\n",
    "    )\n",
    "coll_json"
   ]
  },
  {
   "cell_type": "code",
   "execution_count": 28,
   "metadata": {},
   "outputs": [],
   "source": [
    "collj = json.loads(coll_json.text)"
   ]
  },
  {
   "cell_type": "code",
   "execution_count": 29,
   "metadata": {},
   "outputs": [],
   "source": [
    "hh = [f['field_canonical_id'] for f in collj['list']]"
   ]
  },
  {
   "cell_type": "markdown",
   "metadata": {},
   "source": [
    "The first entry in the collection list is the Banks collection, therefore we will need to find its node ID."
   ]
  },
  {
   "cell_type": "code",
   "execution_count": 31,
   "metadata": {},
   "outputs": [
    {
     "data": {
      "text/plain": [
       "['Banks', 'Ind.Langs.', 'WW1', 'Cook', 'Macarthur', 'ww1_internal', 'Hassall']"
      ]
     },
     "execution_count": 31,
     "metadata": {},
     "output_type": "execute_result"
    }
   ],
   "source": [
    "hh"
   ]
  },
  {
   "cell_type": "code",
   "execution_count": 32,
   "metadata": {},
   "outputs": [
    {
     "data": {
      "text/plain": [
       "1"
      ]
     },
     "execution_count": 32,
     "metadata": {},
     "output_type": "execute_result"
    }
   ],
   "source": [
    "collection_node_id = int(collj['list'][0]['nid'])\n",
    "collection_node_id"
   ]
  },
  {
   "cell_type": "markdown",
   "metadata": {},
   "source": [
    "### Exploring the Series Within the Banks Collection\n",
    "\n",
    "Now that we know the node ID of the Banks collection, we can make a subsequent querys to retrieve a list of the series within the Banks collection. "
   ]
  },
  {
   "cell_type": "code",
   "execution_count": 33,
   "metadata": {},
   "outputs": [
    {
     "data": {
      "text/plain": [
       "<Response [200]>"
      ]
     },
     "execution_count": 33,
     "metadata": {},
     "output_type": "execute_result"
    }
   ],
   "source": [
    "series_json = requests.get(\n",
    "    'https://transcripts.sl.nsw.gov.au/node.json',\n",
    "    auth=HTTPBasicAuth(user, password),params={'type':'collection','field_tt_project':collection_node_id,'status':1}\n",
    "    )\n",
    "series_json"
   ]
  },
  {
   "cell_type": "code",
   "execution_count": 34,
   "metadata": {},
   "outputs": [],
   "source": [
    "seriesj = json.loads(series_json.text)"
   ]
  },
  {
   "cell_type": "markdown",
   "metadata": {},
   "source": [
    "Here, <b>seriesj['list']</b> respresents a list of the series within this collection. Iterating through the items in this list will help you see the name of the series, along with other metadata. For our purpose, we will only need the node IDs of the series."
   ]
  },
  {
   "cell_type": "code",
   "execution_count": 35,
   "metadata": {},
   "outputs": [],
   "source": [
    "series_node = []\n",
    "for f in seriesj['list']:\n",
    "    series_name = f['field_canonical_id']\n",
    "    s = [s1 for s1 in series_name if s1.isdigit()]\n",
    "    s_id = int(''.join(s))\n",
    "    d = {\n",
    "        'series': s_id,\n",
    "        'node_id': int(f['nid'])\n",
    "    }\n",
    "    series_node.append(d)\n",
    "series_node = sorted(series_node, key = lambda i: i['series']) "
   ]
  },
  {
   "cell_type": "code",
   "execution_count": 36,
   "metadata": {},
   "outputs": [
    {
     "data": {
      "text/plain": [
       "[{'series': 1, 'node_id': 131366},\n",
       " {'series': 2, 'node_id': 131365},\n",
       " {'series': 4, 'node_id': 131363},\n",
       " {'series': 5, 'node_id': 131362},\n",
       " {'series': 6, 'node_id': 131361},\n",
       " {'series': 7, 'node_id': 131360},\n",
       " {'series': 8, 'node_id': 131359},\n",
       " {'series': 9, 'node_id': 131358},\n",
       " {'series': 10, 'node_id': 131357},\n",
       " {'series': 11, 'node_id': 131356},\n",
       " {'series': 12, 'node_id': 131355},\n",
       " {'series': 13, 'node_id': 131354},\n",
       " {'series': 14, 'node_id': 131353},\n",
       " {'series': 15, 'node_id': 131352},\n",
       " {'series': 16, 'node_id': 131351},\n",
       " {'series': 17, 'node_id': 131350},\n",
       " {'series': 18, 'node_id': 131349},\n",
       " {'series': 19, 'node_id': 131348},\n",
       " {'series': 20, 'node_id': 131347},\n",
       " {'series': 21, 'node_id': 131346},\n",
       " {'series': 22, 'node_id': 131345},\n",
       " {'series': 23, 'node_id': 131344},\n",
       " {'series': 24, 'node_id': 131343},\n",
       " {'series': 25, 'node_id': 131342},\n",
       " {'series': 26, 'node_id': 131341},\n",
       " {'series': 27, 'node_id': 131340},\n",
       " {'series': 28, 'node_id': 131339},\n",
       " {'series': 29, 'node_id': 131338},\n",
       " {'series': 30, 'node_id': 131337},\n",
       " {'series': 31, 'node_id': 131336},\n",
       " {'series': 32, 'node_id': 131335},\n",
       " {'series': 33, 'node_id': 131334},\n",
       " {'series': 34, 'node_id': 131333},\n",
       " {'series': 35, 'node_id': 131332},\n",
       " {'series': 36, 'node_id': 131331},\n",
       " {'series': 37, 'node_id': 131330},\n",
       " {'series': 38, 'node_id': 131329},\n",
       " {'series': 39, 'node_id': 131328},\n",
       " {'series': 40, 'node_id': 131327},\n",
       " {'series': 41, 'node_id': 131326},\n",
       " {'series': 42, 'node_id': 131325},\n",
       " {'series': 43, 'node_id': 131324},\n",
       " {'series': 44, 'node_id': 131323},\n",
       " {'series': 45, 'node_id': 131322},\n",
       " {'series': 46, 'node_id': 131321},\n",
       " {'series': 47, 'node_id': 131320},\n",
       " {'series': 48, 'node_id': 131319},\n",
       " {'series': 49, 'node_id': 131318},\n",
       " {'series': 50, 'node_id': 131317},\n",
       " {'series': 51, 'node_id': 131316},\n",
       " {'series': 52, 'node_id': 131315},\n",
       " {'series': 53, 'node_id': 131314},\n",
       " {'series': 54, 'node_id': 131313},\n",
       " {'series': 55, 'node_id': 131312},\n",
       " {'series': 56, 'node_id': 131311},\n",
       " {'series': 57, 'node_id': 131310},\n",
       " {'series': 58, 'node_id': 131309},\n",
       " {'series': 59, 'node_id': 131308},\n",
       " {'series': 60, 'node_id': 131307},\n",
       " {'series': 61, 'node_id': 131306},\n",
       " {'series': 62, 'node_id': 131305},\n",
       " {'series': 63, 'node_id': 131304},\n",
       " {'series': 64, 'node_id': 131303},\n",
       " {'series': 65, 'node_id': 131302},\n",
       " {'series': 66, 'node_id': 131301},\n",
       " {'series': 67, 'node_id': 131300},\n",
       " {'series': 68, 'node_id': 131299},\n",
       " {'series': 69, 'node_id': 131298},\n",
       " {'series': 70, 'node_id': 131297},\n",
       " {'series': 71, 'node_id': 131296},\n",
       " {'series': 72, 'node_id': 131295},\n",
       " {'series': 73, 'node_id': 131294},\n",
       " {'series': 74, 'node_id': 131293},\n",
       " {'series': 75, 'node_id': 131292},\n",
       " {'series': 76, 'node_id': 131291},\n",
       " {'series': 77, 'node_id': 131290},\n",
       " {'series': 78, 'node_id': 131289},\n",
       " {'series': 79, 'node_id': 131288},\n",
       " {'series': 80, 'node_id': 131287},\n",
       " {'series': 81, 'node_id': 131286},\n",
       " {'series': 82, 'node_id': 131285},\n",
       " {'series': 83, 'node_id': 131284},\n",
       " {'series': 84, 'node_id': 131283},\n",
       " {'series': 85, 'node_id': 131282},\n",
       " {'series': 86, 'node_id': 131281},\n",
       " {'series': 87, 'node_id': 131280},\n",
       " {'series': 88, 'node_id': 131279},\n",
       " {'series': 89, 'node_id': 131278},\n",
       " {'series': 90, 'node_id': 131277},\n",
       " {'series': 91, 'node_id': 131276},\n",
       " {'series': 92, 'node_id': 131275},\n",
       " {'series': 93, 'node_id': 131274},\n",
       " {'series': 94, 'node_id': 131273},\n",
       " {'series': 95, 'node_id': 131272}]"
      ]
     },
     "execution_count": 36,
     "metadata": {},
     "output_type": "execute_result"
    }
   ],
   "source": [
    "series_node"
   ]
  },
  {
   "cell_type": "markdown",
   "metadata": {},
   "source": [
    "### Exploring a Specific Series \n",
    "\n",
    "Now, let's take a note of the node ID for series 95, and explore its contents."
   ]
  },
  {
   "cell_type": "code",
   "execution_count": 37,
   "metadata": {},
   "outputs": [
    {
     "data": {
      "text/plain": [
       "<Response [200]>"
      ]
     },
     "execution_count": 37,
     "metadata": {},
     "output_type": "execute_result"
    }
   ],
   "source": [
    "doc_json = requests.get(\n",
    "    'https://transcripts.sl.nsw.gov.au/node.json',\n",
    "    auth=HTTPBasicAuth(user, password),params={'type':'document','field_tt_collection':131272,'status':1}\n",
    "    )\n",
    "doc_json"
   ]
  },
  {
   "cell_type": "code",
   "execution_count": 38,
   "metadata": {},
   "outputs": [],
   "source": [
    "docj = json.loads(doc_json.text)"
   ]
  },
  {
   "cell_type": "markdown",
   "metadata": {},
   "source": [
    "Here, <b>docj['list']</b> respresents a list of the documents within this series. Iterating through the items in this list will help you see the name of the document, the number of pages transcribed, etc. For our purpose, we will only need the node IDs of the documents in this series."
   ]
  },
  {
   "cell_type": "code",
   "execution_count": 68,
   "metadata": {},
   "outputs": [],
   "source": [
    "docs_node = []\n",
    "for f in docj['list']:\n",
    "    d = {\n",
    "        'document': int(f['field_canonical_id'].split('.')[1]),\n",
    "        'node_id': int(f['nid']),\n",
    "        'pagecount': int(f['field_total_completed_pages'])\n",
    "    }\n",
    "    docs_node.append(d)\n",
    "docs_node = sorted(docs_node, key = lambda i: i['document']) "
   ]
  },
  {
   "cell_type": "code",
   "execution_count": 69,
   "metadata": {},
   "outputs": [
    {
     "data": {
      "text/plain": [
       "[{'document': 1, 'node_id': 71376, 'pagecount': 2},\n",
       " {'document': 2, 'node_id': 71378, 'pagecount': 2},\n",
       " {'document': 3, 'node_id': 71380, 'pagecount': 3},\n",
       " {'document': 4, 'node_id': 71382, 'pagecount': 3},\n",
       " {'document': 5, 'node_id': 71384, 'pagecount': 2},\n",
       " {'document': 6, 'node_id': 71386, 'pagecount': 3},\n",
       " {'document': 7, 'node_id': 71388, 'pagecount': 3},\n",
       " {'document': 8, 'node_id': 71390, 'pagecount': 2},\n",
       " {'document': 9, 'node_id': 71392, 'pagecount': 9},\n",
       " {'document': 10, 'node_id': 71394, 'pagecount': 1}]"
      ]
     },
     "execution_count": 69,
     "metadata": {},
     "output_type": "execute_result"
    }
   ],
   "source": [
    "docs_node"
   ]
  },
  {
   "cell_type": "markdown",
   "metadata": {},
   "source": [
    "### Retrieving the Transcript of a Specific Document\n",
    "\n",
    "Now, we will explore a document in this series, and obtain the transcriptions of the pages within it."
   ]
  },
  {
   "cell_type": "code",
   "execution_count": 73,
   "metadata": {},
   "outputs": [
    {
     "name": "stdout",
     "output_type": "stream",
     "text": [
      "Letter received by Dorothea, Lady Banks from the Dutch Ambassador,Baron Fugel, 3 November 1818 (Series 95.04)\n",
      "Created by: Fugel, Baron\n"
     ]
    }
   ],
   "source": [
    "doctitle = docj['list'][3]['body']['value']\n",
    "print(doctitle)"
   ]
  },
  {
   "cell_type": "code",
   "execution_count": 75,
   "metadata": {},
   "outputs": [
    {
     "data": {
      "text/plain": [
       "71382"
      ]
     },
     "execution_count": 75,
     "metadata": {},
     "output_type": "execute_result"
    }
   ],
   "source": [
    "nid = int(docj['list'][3]['nid'])\n",
    "nid"
   ]
  },
  {
   "cell_type": "code",
   "execution_count": 76,
   "metadata": {
    "scrolled": false
   },
   "outputs": [
    {
     "data": {
      "text/plain": [
       "<Response [200]>"
      ]
     },
     "execution_count": 76,
     "metadata": {},
     "output_type": "execute_result"
    }
   ],
   "source": [
    "pages_json = requests.get(\n",
    "    'https://transcripts.sl.nsw.gov.au/node.json',\n",
    "    auth=HTTPBasicAuth(user, password),params={'type':'page','field_document':nid,'status':1}\n",
    "    )\n",
    "pages_json"
   ]
  },
  {
   "cell_type": "code",
   "execution_count": 77,
   "metadata": {},
   "outputs": [],
   "source": [
    "pages = json.loads(pages_json.text)"
   ]
  },
  {
   "cell_type": "code",
   "execution_count": 78,
   "metadata": {},
   "outputs": [],
   "source": [
    "import re\n",
    "document_text =''\n",
    "for page in pages['list']:\n",
    "    page_text = page['metatag']['value']['description']\n",
    "    page_text = re.sub(\"[\\\\[].*?[\\\\]]\", \"\", page_text)\n",
    "    document_text+=page_text"
   ]
  },
  {
   "cell_type": "code",
   "execution_count": 79,
   "metadata": {},
   "outputs": [
    {
     "name": "stdout",
     "output_type": "stream",
     "text": [
      "Lady Banks Soho Square Whitehall pl. 3. Nov. 1818 Dear Madam, I have just received a Letter from HRH the Princess Dowager of Orange containing the following passage which I beg your Ladyship will have the goodness to communicate to Sir Joseph.  interested in his health at this moment from a motive which is a little Selfish as I look forward to his complete re-establishment for the honor of Your Ladyship & his Company to Dinner the promise of which gives me and my Brother the greatest pleasure. I have the honor to be, Dear Madam Your Ladyship's most obedient faithful Servant H Fugel\n"
     ]
    }
   ],
   "source": [
    "import unicodedata\n",
    "new_str = unicodedata.normalize(\"NFKD\", document_text)\n",
    "print(new_str.lstrip())"
   ]
  },
  {
   "cell_type": "code",
   "execution_count": null,
   "metadata": {},
   "outputs": [],
   "source": []
  }
 ],
 "metadata": {
  "kernelspec": {
   "display_name": "Python 3",
   "language": "python",
   "name": "python3"
  },
  "language_info": {
   "codemirror_mode": {
    "name": "ipython",
    "version": 3
   },
   "file_extension": ".py",
   "mimetype": "text/x-python",
   "name": "python",
   "nbconvert_exporter": "python",
   "pygments_lexer": "ipython3",
   "version": "3.7.3"
  },
  "toc": {
   "base_numbering": 1,
   "nav_menu": {},
   "number_sections": true,
   "sideBar": true,
   "skip_h1_title": true,
   "title_cell": "Table of Contents",
   "title_sidebar": "Contents",
   "toc_cell": false,
   "toc_position": {},
   "toc_section_display": true,
   "toc_window_display": false
  }
 },
 "nbformat": 4,
 "nbformat_minor": 2
}
