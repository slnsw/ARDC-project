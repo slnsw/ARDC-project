{
 "cells": [
  {
   "cell_type": "markdown",
   "metadata": {},
   "source": [
    "<center> <h1>Fetching the ALTOs for a Specific Book Through Rosetta API</h1> \n",
    "\n",
    "In this example, we will use Pandas to read in an excel file and create a dataframe, from which we can obtain IE IDs and retrieve the ALTO for specific IE IDs. \n"
   ]
  },
  {
   "cell_type": "markdown",
   "metadata": {},
   "source": [
    "<h1>Table of Contents<span class=\"tocSkip\"></span></h1>\n",
    "<div class=\"toc\"><ul class=\"toc-item\"><li><span><a href=\"#Importing-relevant-libraries\" data-toc-modified-id=\"Importing-relevant-libraries-1\"><span class=\"toc-item-num\">1&nbsp;&nbsp;</span>Importing relevant libraries</a></span></li><li><span><a href=\"#Reading-in-the-excel-file\" data-toc-modified-id=\"Reading-in-the-excel-file-2\"><span class=\"toc-item-num\">2&nbsp;&nbsp;</span>Reading in the excel file</a></span></li><li><span><a href=\"#Obtaining-the-METS-file-for-a-specific-IE-ID\" data-toc-modified-id=\"Obtaining-the-METS-file-for-a-specific-IE-ID-3\"><span class=\"toc-item-num\">3&nbsp;&nbsp;</span>Obtaining the METS file for a specific IE ID</a></span><ul class=\"toc-item\"><li><span><a href=\"#Setting-API-variables\" data-toc-modified-id=\"Setting-API-variables-3.1\"><span class=\"toc-item-num\">3.1&nbsp;&nbsp;</span>Setting API variables</a></span></li><li><span><a href=\"#Creating-a-Rosetta-object-from-utils.rosetta-and-authenticating-through-HTTP.\" data-toc-modified-id=\"Creating-a-Rosetta-object-from-utils.rosetta-and-authenticating-through-HTTP.-3.2\"><span class=\"toc-item-num\">3.2&nbsp;&nbsp;</span>Creating a Rosetta object from utils.rosetta and authenticating through HTTP.</a></span></li><li><span><a href=\"#Creating-a-SOAP-client-object-using-Zeep's-Client-class.\" data-toc-modified-id=\"Creating-a-SOAP-client-object-using-Zeep's-Client-class.-3.3\"><span class=\"toc-item-num\">3.3&nbsp;&nbsp;</span>Creating a SOAP client object using Zeep's Client class.</a></span></li><li><span><a href=\"#Retrieving-the-pdsHandle-for-issuing-requests\" data-toc-modified-id=\"Retrieving-the-pdsHandle-for-issuing-requests-3.4\"><span class=\"toc-item-num\">3.4&nbsp;&nbsp;</span>Retrieving the pdsHandle for issuing requests</a></span></li><li><span><a href=\"#Accessing-the-getIE-method\" data-toc-modified-id=\"Accessing-the-getIE-method-3.5\"><span class=\"toc-item-num\">3.5&nbsp;&nbsp;</span>Accessing the getIE method</a></span></li></ul></li><li><span><a href=\"#Exploring-the-METS-file\" data-toc-modified-id=\"Exploring-the-METS-file-4\"><span class=\"toc-item-num\">4&nbsp;&nbsp;</span>Exploring the METS file</a></span><ul class=\"toc-item\"><li><span><a href=\"#Converting-the-METS-xml-data-to-json\" data-toc-modified-id=\"Converting-the-METS-xml-data-to-json-4.1\"><span class=\"toc-item-num\">4.1&nbsp;&nbsp;</span>Converting the METS xml data to json</a></span></li><li><span><a href=\"#Exploring-the-METS-json-through-pandas-dataframes\" data-toc-modified-id=\"Exploring-the-METS-json-through-pandas-dataframes-4.2\"><span class=\"toc-item-num\">4.2&nbsp;&nbsp;</span>Exploring the METS json through pandas dataframes</a></span></li></ul></li><li><span><a href=\"#Retrieving-the-ALTOs-for-a-specific-book\" data-toc-modified-id=\"Retrieving-the-ALTOs-for-a-specific-book-5\"><span class=\"toc-item-num\">5&nbsp;&nbsp;</span>Retrieving the ALTOs for a specific book</a></span></li></ul></div>"
   ]
  },
  {
   "cell_type": "markdown",
   "metadata": {},
   "source": [
    "## Importing relevant libraries\n",
    "\n",
    "We will import NumPy and Pandas for reading in the excel file and creating the dataframe. The requests library will retrieve bibliographical metadata and image files. The excel file is located in the same directory as the notebook.\n",
    "\n",
    "The requests library is used to issue requests on the Rosetta API. The zeep library classes Client and Transport are used to create authenticated SOAP API client objects. The Rosetta helper class is imported from the utils directory."
   ]
  },
  {
   "cell_type": "code",
   "execution_count": 1,
   "metadata": {},
   "outputs": [],
   "source": [
    "import numpy as np\n",
    "import pandas as pd\n",
    "import requests\n",
    "import collections\n",
    "import IPython.display as Disp\n",
    "import xml.etree.ElementTree as ET\n",
    "from io import StringIO\n",
    "from lxml import etree, objectify\n",
    "from xmljson import yahoo\n",
    "import os\n",
    "\n",
    "from requests.auth import HTTPBasicAuth  # or HTTPDigestAuth, or OAuth1, etc.\n",
    "from zeep.transports import Transport\n",
    "from zeep import Client\n",
    "from utils.rosetta import Rosetta  # this is a rosetta helper class from the SL github"
   ]
  },
  {
   "cell_type": "markdown",
   "metadata": {},
   "source": [
    "## Reading in the excel file\n",
    "\n",
    "We will create a dataframe \"df\" which we will use to fetch specific ALTO files.\n"
   ]
  },
  {
   "cell_type": "code",
   "execution_count": 2,
   "metadata": {},
   "outputs": [],
   "source": [
    "df = pd.read_excel('ALTO_IEs.xlsx', sheet_name='Query List 2019-09-23 10.31.03')\n",
    "df = df[[\"IE PID\", \"MMSIDs\", \"Barcodes\",\"Title (DC)\"]]"
   ]
  },
  {
   "cell_type": "code",
   "execution_count": 3,
   "metadata": {
    "scrolled": true
   },
   "outputs": [
    {
     "data": {
      "text/html": [
       "<div>\n",
       "<style scoped>\n",
       "    .dataframe tbody tr th:only-of-type {\n",
       "        vertical-align: middle;\n",
       "    }\n",
       "\n",
       "    .dataframe tbody tr th {\n",
       "        vertical-align: top;\n",
       "    }\n",
       "\n",
       "    .dataframe thead th {\n",
       "        text-align: right;\n",
       "    }\n",
       "</style>\n",
       "<table border=\"1\" class=\"dataframe\">\n",
       "  <thead>\n",
       "    <tr style=\"text-align: right;\">\n",
       "      <th></th>\n",
       "      <th>IE PID</th>\n",
       "      <th>MMSIDs</th>\n",
       "      <th>Barcodes</th>\n",
       "      <th>Title (DC)</th>\n",
       "    </tr>\n",
       "  </thead>\n",
       "  <tbody>\n",
       "    <tr>\n",
       "      <th>0</th>\n",
       "      <td>IE14008261</td>\n",
       "      <td>#991000259739702626</td>\n",
       "      <td>2147751.0</td>\n",
       "      <td>Statutes in force in the colony of Queensland,...</td>\n",
       "    </tr>\n",
       "    <tr>\n",
       "      <th>1</th>\n",
       "      <td>IE6230053</td>\n",
       "      <td>#991000259739702626</td>\n",
       "      <td>2147752.0</td>\n",
       "      <td>Statutes in force in the colony of Queensland,...</td>\n",
       "    </tr>\n",
       "    <tr>\n",
       "      <th>2</th>\n",
       "      <td>IE6240045</td>\n",
       "      <td>#991000259739702626</td>\n",
       "      <td>2147750.0</td>\n",
       "      <td>Statutes in force in the colony of Queensland,...</td>\n",
       "    </tr>\n",
       "    <tr>\n",
       "      <th>3</th>\n",
       "      <td>IE4783007</td>\n",
       "      <td>#991000317789702626</td>\n",
       "      <td>1665038.0</td>\n",
       "      <td>Pioneer work in the alps of New Zealand : a re...</td>\n",
       "    </tr>\n",
       "    <tr>\n",
       "      <th>4</th>\n",
       "      <td>IE4877439</td>\n",
       "      <td>#991000317789702626</td>\n",
       "      <td>2128780.0</td>\n",
       "      <td>Pioneer work in the alps of New Zealand : a re...</td>\n",
       "    </tr>\n",
       "  </tbody>\n",
       "</table>\n",
       "</div>"
      ],
      "text/plain": [
       "       IE PID               MMSIDs   Barcodes  \\\n",
       "0  IE14008261  #991000259739702626  2147751.0   \n",
       "1   IE6230053  #991000259739702626  2147752.0   \n",
       "2   IE6240045  #991000259739702626  2147750.0   \n",
       "3   IE4783007  #991000317789702626  1665038.0   \n",
       "4   IE4877439  #991000317789702626  2128780.0   \n",
       "\n",
       "                                          Title (DC)  \n",
       "0  Statutes in force in the colony of Queensland,...  \n",
       "1  Statutes in force in the colony of Queensland,...  \n",
       "2  Statutes in force in the colony of Queensland,...  \n",
       "3  Pioneer work in the alps of New Zealand : a re...  \n",
       "4  Pioneer work in the alps of New Zealand : a re...  "
      ]
     },
     "execution_count": 3,
     "metadata": {},
     "output_type": "execute_result"
    }
   ],
   "source": [
    "df.head() # Displaying first 5 rows"
   ]
  },
  {
   "cell_type": "markdown",
   "metadata": {},
   "source": [
    "## Obtaining the METS file for a specific IE ID\n",
    "\n",
    "We will use the Rosetta API to obtain the METS file for a specific IE PID. \n",
    "\n",
    "The METS file will include the latest revisions of all the Representations, including the Derivative Copies."
   ]
  },
  {
   "cell_type": "markdown",
   "metadata": {},
   "source": [
    "### Setting API variables"
   ]
  },
  {
   "cell_type": "code",
   "execution_count": 4,
   "metadata": {},
   "outputs": [],
   "source": [
    "api_endpoint = 'http://digital.sl.nsw.gov.au'\n",
    "api_pds_endpoint = 'https://libprd70.sl.nsw.gov.au/pds'\n",
    "api_sru_endpoint = 'http://digital.sl.nsw.gov.au/search/permanent/sru'\n",
    "\n",
    "ws_url = api_endpoint + '/dpsws/repository/IEWebServices?wsdl'\n",
    "\n",
    "api_username = 'xxxxxxx'\n",
    "api_password = 'xxxxxxxxxxx'\n",
    "api_institude_code = 'SLNSW'"
   ]
  },
  {
   "cell_type": "markdown",
   "metadata": {},
   "source": [
    "### Creating a Rosetta object from the Rosetta helper file and authenticating it."
   ]
  },
  {
   "cell_type": "code",
   "execution_count": 5,
   "metadata": {},
   "outputs": [],
   "source": [
    "ros = Rosetta(api_endpoint, api_pds_endpoint, api_sru_endpoint, api_username, api_password, api_institude_code, api_timeout=1200)\n",
    "ros.session.auth = HTTPBasicAuth(api_username, api_password)"
   ]
  },
  {
   "cell_type": "markdown",
   "metadata": {},
   "source": [
    "### Creating a SOAP client object using Zeep's Client class."
   ]
  },
  {
   "cell_type": "code",
   "execution_count": 6,
   "metadata": {},
   "outputs": [],
   "source": [
    "transport = Transport(session=ros.session, timeout=ros.api_timeout, operation_timeout=ros.api_timeout)\n",
    "client = Client(ws_url, transport=transport, plugins=[ros.client_history])"
   ]
  },
  {
   "cell_type": "markdown",
   "metadata": {},
   "source": [
    "### Requesting the METS File\n",
    "\n",
    "Here, we retrieve the METS through the getIE method."
   ]
  },
  {
   "cell_type": "code",
   "execution_count": 7,
   "metadata": {},
   "outputs": [],
   "source": [
    "pdsHandle = ros.get_pds_handle()"
   ]
  },
  {
   "cell_type": "code",
   "execution_count": 8,
   "metadata": {
    "scrolled": true
   },
   "outputs": [],
   "source": [
    "IE_PID = df[\"IE PID\"][12]\n",
    "r = client.service.getIE(pdsHandle,IE_PID,2)"
   ]
  },
  {
   "cell_type": "code",
   "execution_count": 9,
   "metadata": {},
   "outputs": [],
   "source": [
    "tree = ET.ElementTree()\n",
    "root = ET.fromstring(r)\n",
    "tree._setroot(root)\n",
    "tree.write(\"mets.xml\")"
   ]
  },
  {
   "cell_type": "markdown",
   "metadata": {},
   "source": [
    "## Exploring the METS file"
   ]
  },
  {
   "cell_type": "markdown",
   "metadata": {},
   "source": [
    "### Converting the METS xml data to json\n",
    "\n",
    "We will output the equivalent 'mets.json' file, which we will use to create pandas dataframes."
   ]
  },
  {
   "cell_type": "code",
   "execution_count": 10,
   "metadata": {},
   "outputs": [],
   "source": [
    "def xml_json(data, remove_ns=True, preserve_root=False, encoding='utf-8') -> dict:\n",
    "    if type(data) == str:\n",
    "        if remove_ns:\n",
    "            xml_data = ET.iterparse(StringIO(data))\n",
    "            for _, el in xml_data:\n",
    "                if '}' in el.tag:\n",
    "                    el.tag = el.tag.split('}', 1)[1]  # strip all namespaces\n",
    "            data = ET.tostring(xml_data.root, encoding=encoding).decode(encoding)\n",
    "        encoded_data = data.encode(encoding)\n",
    "        # noinspection PyArgumentList\n",
    "        parser = etree.XMLParser(encoding=encoding, recover=False, huge_tree=True)\n",
    "        xml_data = objectify.fromstring(encoded_data, parser=parser)\n",
    "    else:\n",
    "        xml_data = data\n",
    "    json_data = yahoo.data(xml_data)\n",
    "    if type(json_data) == collections.OrderedDict and not preserve_root:\n",
    "        json_data = json_data.get(list(json_data.keys())[0])\n",
    "    return json_data"
   ]
  },
  {
   "cell_type": "code",
   "execution_count": 11,
   "metadata": {
    "scrolled": false
   },
   "outputs": [],
   "source": [
    "j=xml_json(r)"
   ]
  },
  {
   "cell_type": "code",
   "execution_count": 12,
   "metadata": {},
   "outputs": [],
   "source": [
    "import json\n",
    "with open('mets.json', 'w') as f:\n",
    "    dictionaries = [j]\n",
    "    f.write(json.dumps(dictionaries))"
   ]
  },
  {
   "cell_type": "markdown",
   "metadata": {},
   "source": [
    "### Exploring the METS json through pandas\n",
    "\n",
    "We will create a dataframe to improve our visualisation of the METS file contents."
   ]
  },
  {
   "cell_type": "code",
   "execution_count": 13,
   "metadata": {},
   "outputs": [],
   "source": [
    "json_file = 'mets.json'\n",
    "json1 = pd.read_json(json_file)"
   ]
  },
  {
   "cell_type": "code",
   "execution_count": 15,
   "metadata": {},
   "outputs": [],
   "source": [
    "table_of_contents = json1['structMap'][0][0]"
   ]
  },
  {
   "cell_type": "markdown",
   "metadata": {},
   "source": [
    "The File ID under the label 'Table of Contents' will fetch the entire book in pdf format.\n",
    "\n",
    "We will store the alto file list in 'altos', and image file list in 'images'"
   ]
  },
  {
   "cell_type": "code",
   "execution_count": 16,
   "metadata": {},
   "outputs": [],
   "source": [
    "structMap = json1['structMap'][0]\n",
    "\n",
    "altos = list(filter(lambda file: file['div']['LABEL'] == 'Dynamically Linked Transcript', structMap))[0]['div']['div']['div']\n",
    "altos_list = []\n",
    "for i in altos:\n",
    "    altos_list.append(i['fptr']['FILEID'])"
   ]
  },
  {
   "cell_type": "code",
   "execution_count": 17,
   "metadata": {},
   "outputs": [
    {
     "data": {
      "text/plain": [
       "['FL4837857', 'FL4837858', 'FL4837859', 'FL4837860', 'FL4837861']"
      ]
     },
     "execution_count": 17,
     "metadata": {},
     "output_type": "execute_result"
    }
   ],
   "source": [
    "altos_list[:5] # Displaying first 5 items"
   ]
  },
  {
   "cell_type": "code",
   "execution_count": 20,
   "metadata": {
    "scrolled": true
   },
   "outputs": [],
   "source": [
    "structMap = json1['structMap'][0]\n",
    "images = list(filter(lambda file: file['div']['LABEL'] == 'Derivative Copy', structMap))[1]['div']['div']['div']\n",
    "image_list=[]\n",
    "for i in images:\n",
    "    image_list.append(i['fptr']['FILEID'])"
   ]
  },
  {
   "cell_type": "code",
   "execution_count": 21,
   "metadata": {},
   "outputs": [
    {
     "data": {
      "text/plain": [
       "['FL4838053', 'FL4838054', 'FL4838055', 'FL4838056', 'FL4838057']"
      ]
     },
     "execution_count": 21,
     "metadata": {},
     "output_type": "execute_result"
    }
   ],
   "source": [
    "image_list[:5] # Displaying first 5 items"
   ]
  },
  {
   "cell_type": "markdown",
   "metadata": {},
   "source": [
    "## Saving the ALTOs for a specific book to file."
   ]
  },
  {
   "cell_type": "code",
   "execution_count": 22,
   "metadata": {},
   "outputs": [],
   "source": [
    "def altopull(flid):\n",
    "    img_url = \"http://digital.sl.nsw.gov.au/delivery/DeliveryManagerServlet\"\n",
    "    resp1 = requests.get(img_url,params={'dps_pid':flid, 'dps_func':'stream'})\n",
    "    return resp1\n",
    "\n",
    "def write_alto(r,flid):\n",
    "    tree = ET.ElementTree()\n",
    "    root = ET.fromstring(r.text)\n",
    "    tree._setroot(root)\n",
    "    try:\n",
    "        filename = IE_PID + \"/\" + flid + \".xml\"\n",
    "        tree.write(filename)\n",
    "    except:\n",
    "        os.mkdir(IE_PID)\n",
    "        filename = IE_PID + \"/\" + flid + \".xml\"\n",
    "        tree.write(filename)    "
   ]
  },
  {
   "cell_type": "code",
   "execution_count": 24,
   "metadata": {},
   "outputs": [],
   "source": [
    "for i in altos_list:\n",
    "    r = altopull(i)\n",
    "    write_alto(r,i)"
   ]
  },
  {
   "cell_type": "code",
   "execution_count": null,
   "metadata": {},
   "outputs": [],
   "source": []
  }
 ],
 "metadata": {
  "kernelspec": {
   "display_name": "Python 3",
   "language": "python",
   "name": "python3"
  },
  "language_info": {
   "codemirror_mode": {
    "name": "ipython",
    "version": 3
   },
   "file_extension": ".py",
   "mimetype": "text/x-python",
   "name": "python",
   "nbconvert_exporter": "python",
   "pygments_lexer": "ipython3",
   "version": "3.7.3"
  },
  "toc": {
   "base_numbering": 1,
   "nav_menu": {},
   "number_sections": true,
   "sideBar": true,
   "skip_h1_title": true,
   "title_cell": "Table of Contents",
   "title_sidebar": "Contents",
   "toc_cell": false,
   "toc_position": {
    "height": "789px",
    "left": "1536px",
    "top": "110px",
    "width": "266px"
   },
   "toc_section_display": true,
   "toc_window_display": false
  }
 },
 "nbformat": 4,
 "nbformat_minor": 4
}
