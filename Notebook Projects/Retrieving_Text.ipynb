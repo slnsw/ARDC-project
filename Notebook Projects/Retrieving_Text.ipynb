{
 "cells": [
  {
   "cell_type": "markdown",
   "metadata": {},
   "source": [
    "<center> <h1>Extracting Text from ALTOs</h1> \n",
    "\n",
    "<center>In this example, we will use the alto-parser code to read in a specific book's ALTO files and output the text content.<center>"
   ]
  },
  {
   "cell_type": "markdown",
   "metadata": {},
   "source": [
    "## Importing the ALTO parser\n",
    "\n",
    "Here, we import the parser code and set the path to the ALTO files (retrieved in the \"Alto_retrieve\" notebook). Additionally, an AltoFactory object will help in creating AltoFile instances from the alto xml files."
   ]
  },
  {
   "cell_type": "code",
   "execution_count": 1,
   "metadata": {},
   "outputs": [],
   "source": [
    "import utils.altoparser.alto as alto\n",
    "import os \n",
    "\n",
    "data_path= os.path.join(os.getcwd(), \"IE14008261\")\n",
    "factory = alto.AltoFactory(data_path)"
   ]
  },
  {
   "cell_type": "markdown",
   "metadata": {},
   "source": [
    "Once the directory to the book is set, we can load the ALTO xml files from it. \n",
    "\n",
    "The code commented out loads all the ALTO files, however for this example, we will load a single ALTO file."
   ]
  },
  {
   "cell_type": "code",
   "execution_count": 2,
   "metadata": {},
   "outputs": [],
   "source": [
    "from os import listdir\n",
    "#xmlfiles = [f for f in listdir(data_path) if os.path.isfile(os.path.join(data_path, f))]\n",
    "#xml_files = factory.load_files(xmlfiles)\n",
    "xml_files = factory.load_files(['FL14008588.xml'])"
   ]
  },
  {
   "cell_type": "markdown",
   "metadata": {},
   "source": [
    "## Saving the text content within the ALTOs into a file"
   ]
  },
  {
   "cell_type": "markdown",
   "metadata": {},
   "source": [
    "We use the loaded ALTO files to extract the OCR text data, and save it to a file."
   ]
  },
  {
   "cell_type": "code",
   "execution_count": 3,
   "metadata": {
    "scrolled": false
   },
   "outputs": [],
   "source": [
    "with open(\"data.txt\", \"w\", encoding=\"utf-8\") as text_file:\n",
    "    for xml_file in xml_files:\n",
    "        #print('\\n\\n******Page******: ' + xml_file.layout.pages[0].id + '\\n\\n')\n",
    "        for block in xml_file.layout.pages[0].print_space:\n",
    "            if type(block) == alto.TextBlock:\n",
    "                for line in block:\n",
    "                    for line_part in line:\n",
    "                        if type(line_part) == alto.String:\n",
    "                            text_file.write(str(line_part.content))\n",
    "                            text_file.write(\" \")\n",
    "                            #print(line_part.content, end=' ')\n",
    "                        elif type(line_part) == alto.Sp:\n",
    "                            text_file.write(\" \")\n",
    "                            #print(' ', end='')\n",
    "            elif type(block) == alto.ComposedBlock:\n",
    "                for block in block:\n",
    "                    if type(block) == alto.TextBlock:\n",
    "                        for line in block:\n",
    "                            for line_part in line:\n",
    "                                if type(line_part) == alto.String:\n",
    "                                    text_file.write(str(line_part.content))\n",
    "                                    text_file.write(\" \")\n",
    "                                    #print(line_part.content, end=' ')\n",
    "                                elif type(line_part) == alto.Sp:\n",
    "                                    text_file.write(\" \")\n",
    "                                    #print(' ', end='')\n",
    "                            #print(' ')\n"
   ]
  },
  {
   "cell_type": "markdown",
   "metadata": {},
   "source": [
    "## Reading in text from the saved file"
   ]
  },
  {
   "cell_type": "markdown",
   "metadata": {},
   "source": [
    "For further analysis of the actual text, we can load the entire text into a string."
   ]
  },
  {
   "cell_type": "code",
   "execution_count": 5,
   "metadata": {
    "scrolled": true
   },
   "outputs": [
    {
     "data": {
      "text/plain": [
       "'succeeding three years from time time expiration e'"
      ]
     },
     "execution_count": 5,
     "metadata": {},
     "output_type": "execute_result"
    }
   ],
   "source": [
    "with open('data.txt', 'r', encoding=\"utf8\") as file:\n",
    "    data = file.read().replace('\\n', '')\n",
    "\n",
    "import re\n",
    "\n",
    "data = re.sub(' ... ', ' ',data)\n",
    "data = re.sub(\"\\s\\s+\" , \" \",data)\n",
    "data = re.sub(' ... ', ' ',data)\n",
    "data[:50]"
   ]
  }
 ],
 "metadata": {
  "kernelspec": {
   "display_name": "Python 3",
   "language": "python",
   "name": "python3"
  },
  "language_info": {
   "codemirror_mode": {
    "name": "ipython",
    "version": 3
   },
   "file_extension": ".py",
   "mimetype": "text/x-python",
   "name": "python",
   "nbconvert_exporter": "python",
   "pygments_lexer": "ipython3",
   "version": "3.7.3"
  },
  "toc": {
   "base_numbering": 1,
   "nav_menu": {},
   "number_sections": true,
   "sideBar": true,
   "skip_h1_title": false,
   "title_cell": "Table of Contents",
   "title_sidebar": "Contents",
   "toc_cell": false,
   "toc_position": {},
   "toc_section_display": true,
   "toc_window_display": false
  }
 },
 "nbformat": 4,
 "nbformat_minor": 2
}
