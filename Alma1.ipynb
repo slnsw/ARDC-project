{
 "cells": [
  {
   "cell_type": "markdown",
   "metadata": {},
   "source": [
    "# Alma API Example\n",
    "\n",
    "A demonstration of how to do obtain metadata from searching MMS IDs on the Alma API"
   ]
  },
  {
   "cell_type": "code",
   "execution_count": 1,
   "metadata": {},
   "outputs": [],
   "source": [
    "import requests"
   ]
  },
  {
   "cell_type": "markdown",
   "metadata": {},
   "source": [
    "Here, we input the base API url we will be querying from, and we will input our API key"
   ]
  },
  {
   "cell_type": "code",
   "execution_count": 2,
   "metadata": {},
   "outputs": [],
   "source": [
    "# Base URL\n",
    "base_url = \"https://api-ap.hosted.exlibrisgroup.com/almaws/v1/bibs\"\n",
    "\n",
    "#API Key\n",
    "apikey = \"xxxxxxxxxxxxxxxxxxxxxxxxxxxxxxxxxxxx\"\n"
   ]
  },
  {
   "cell_type": "markdown",
   "metadata": {},
   "source": [
    "Here, we issue a query request with a specific MMS ID. The variable response contains the response to the request"
   ]
  },
  {
   "cell_type": "code",
   "execution_count": 3,
   "metadata": {},
   "outputs": [],
   "source": [
    "response = requests.get(base_url, params={'mms_id': '991020536689702626','apikey':apikey})"
   ]
  },
  {
   "cell_type": "markdown",
   "metadata": {},
   "source": [
    "To check the status of the response:"
   ]
  },
  {
   "cell_type": "code",
   "execution_count": 4,
   "metadata": {},
   "outputs": [
    {
     "name": "stdout",
     "output_type": "stream",
     "text": [
      "200\n"
     ]
    }
   ],
   "source": [
    "print(response.status_code)"
   ]
  },
  {
   "cell_type": "markdown",
   "metadata": {},
   "source": [
    "Since the response content is in XML, we will use python libraries to parse the contents and convert them to a python dataframe"
   ]
  },
  {
   "cell_type": "code",
   "execution_count": 5,
   "metadata": {},
   "outputs": [],
   "source": [
    "# For obtaining tags\n",
    "import xml.etree.ElementTree as ET\n",
    "root = ET.fromstring(response.text)\n",
    "\n",
    "# For obtaining values\n",
    "import untangle\n",
    "obj = untangle.parse(response.text)\n",
    "\n",
    "# For creating a dataframe, we will use the library Pandas\n",
    "import pandas as pd\n",
    "\n",
    "# We will add tags as column names in our dataframe\n",
    "columns=[]\n",
    "for i in root[0]:\n",
    "    columns.append(i.tag)\n",
    "\n",
    "df = pd.DataFrame(columns=columns)\n",
    "\n",
    "# Now we will add the attribute values for our search item into the dataframe as a row\n",
    "attribs=[]\n",
    "\n",
    "for v in obj.bibs.bib.children:\n",
    "    attribs.append(v.cdata)\n",
    "\n",
    "df.loc[len(df)] = attribs "
   ]
  },
  {
   "cell_type": "code",
   "execution_count": 12,
   "metadata": {},
   "outputs": [
    {
     "data": {
      "text/html": [
       "<div>\n",
       "<style scoped>\n",
       "    .dataframe tbody tr th:only-of-type {\n",
       "        vertical-align: middle;\n",
       "    }\n",
       "\n",
       "    .dataframe tbody tr th {\n",
       "        vertical-align: top;\n",
       "    }\n",
       "\n",
       "    .dataframe thead th {\n",
       "        text-align: right;\n",
       "    }\n",
       "</style>\n",
       "<table border=\"1\" class=\"dataframe\">\n",
       "  <thead>\n",
       "    <tr style=\"text-align: right;\">\n",
       "      <th></th>\n",
       "      <th>mms_id</th>\n",
       "      <th>record_format</th>\n",
       "      <th>linked_record_id</th>\n",
       "      <th>title</th>\n",
       "      <th>network_numbers</th>\n",
       "      <th>place_of_publication</th>\n",
       "      <th>date_of_publication</th>\n",
       "      <th>publisher_const</th>\n",
       "      <th>holdings</th>\n",
       "      <th>created_by</th>\n",
       "      <th>created_date</th>\n",
       "      <th>last_modified_by</th>\n",
       "      <th>last_modified_date</th>\n",
       "      <th>suppress_from_publishing</th>\n",
       "      <th>originating_system</th>\n",
       "      <th>originating_system_id</th>\n",
       "      <th>cataloging_level</th>\n",
       "      <th>record</th>\n",
       "    </tr>\n",
       "  </thead>\n",
       "  <tbody>\n",
       "    <tr>\n",
       "      <th>0</th>\n",
       "      <td>991020536689702626</td>\n",
       "      <td>marc21</td>\n",
       "      <td></td>\n",
       "      <td>Van Diemen's Land Company : (from History of V...</td>\n",
       "      <td></td>\n",
       "      <td>London :</td>\n",
       "      <td>1832.</td>\n",
       "      <td>British magazine</td>\n",
       "      <td></td>\n",
       "      <td>import</td>\n",
       "      <td>2016-05-17Z</td>\n",
       "      <td>exl_api</td>\n",
       "      <td>2019-06-12Z</td>\n",
       "      <td>false</td>\n",
       "      <td>OTHER</td>\n",
       "      <td>b15751296-61slnsw_inst</td>\n",
       "      <td>00</td>\n",
       "      <td></td>\n",
       "    </tr>\n",
       "  </tbody>\n",
       "</table>\n",
       "</div>"
      ],
      "text/plain": [
       "               mms_id record_format linked_record_id  \\\n",
       "0  991020536689702626        marc21                    \n",
       "\n",
       "                                               title network_numbers  \\\n",
       "0  Van Diemen's Land Company : (from History of V...                   \n",
       "\n",
       "  place_of_publication date_of_publication   publisher_const holdings  \\\n",
       "0             London :               1832.  British magazine            \n",
       "\n",
       "  created_by created_date last_modified_by last_modified_date  \\\n",
       "0     import  2016-05-17Z          exl_api        2019-06-12Z   \n",
       "\n",
       "  suppress_from_publishing originating_system   originating_system_id  \\\n",
       "0                    false              OTHER  b15751296-61slnsw_inst   \n",
       "\n",
       "  cataloging_level record  \n",
       "0               00         "
      ]
     },
     "execution_count": 12,
     "metadata": {},
     "output_type": "execute_result"
    }
   ],
   "source": [
    "df.head()"
   ]
  },
  {
   "cell_type": "markdown",
   "metadata": {},
   "source": [
    "Now, we can manipulate the dataframe, or look up specific columns"
   ]
  },
  {
   "cell_type": "code",
   "execution_count": 9,
   "metadata": {},
   "outputs": [
    {
     "data": {
      "text/plain": [
       "0    Van Diemen's Land Company : (from History of V...\n",
       "Name: title, dtype: object"
      ]
     },
     "execution_count": 9,
     "metadata": {},
     "output_type": "execute_result"
    }
   ],
   "source": [
    "df['title']"
   ]
  },
  {
   "cell_type": "markdown",
   "metadata": {},
   "source": [
    "## We can populate more rows in the dataframe with more search items"
   ]
  },
  {
   "cell_type": "code",
   "execution_count": null,
   "metadata": {},
   "outputs": [],
   "source": []
  }
 ],
 "metadata": {
  "kernelspec": {
   "display_name": "Python 3",
   "language": "python",
   "name": "python3"
  },
  "language_info": {
   "codemirror_mode": {
    "name": "ipython",
    "version": 3
   },
   "file_extension": ".py",
   "mimetype": "text/x-python",
   "name": "python",
   "nbconvert_exporter": "python",
   "pygments_lexer": "ipython3",
   "version": "3.7.3"
  }
 },
 "nbformat": 4,
 "nbformat_minor": 4
}
